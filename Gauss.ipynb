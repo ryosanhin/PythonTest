{
  "nbformat": 4,
  "nbformat_minor": 0,
  "metadata": {
    "colab": {
      "provenance": [],
      "include_colab_link": true
    },
    "kernelspec": {
      "name": "python3",
      "display_name": "Python 3"
    },
    "language_info": {
      "name": "python"
    }
  },
  "cells": [
    {
      "cell_type": "markdown",
      "metadata": {
        "id": "view-in-github",
        "colab_type": "text"
      },
      "source": [
        "<a href=\"https://colab.research.google.com/github/ryosanhin/PythonTest/blob/master/Gauss.ipynb\" target=\"_parent\"><img src=\"https://colab.research.google.com/assets/colab-badge.svg\" alt=\"Open In Colab\"/></a>"
      ]
    },
    {
      "cell_type": "code",
      "source": [
        "import numpy as np\n",
        "import matplotlib.pyplot as plt\n",
        "\n",
        "Ay, Ax = np.mgrid[1:-1:256j,-1:1:256j]\n",
        "ux = np.array([0.0, 0.5, -0.5])\n",
        "uy = np.array([0.0, 0.25, -0.25])\n",
        "sx = np.array([1.0, 0.4, 0.3])\n",
        "sy = np.array([1.0, 0.2, 0.5])\n",
        "\n",
        "ux = np.expand_dims(ux, axis = -1) # or np.reshape(ux, (???))\n",
        "uy = np.expand_dims(uy, axis = -1) # or np.reshape(uy, (???))\n",
        "sx = np.expand_dims(sx, axis = -1) # or np.reshape(sx, (???))\n",
        "sy = np.expand_dims(sy, axis = -1) # or np.reshape(sy, (???))\n",
        "ux = np.expand_dims(ux, axis = -1) # or np.reshape(ux, (???))\n",
        "uy = np.expand_dims(uy, axis = -1) # or np.reshape(uy, (???))\n",
        "sx = np.expand_dims(sx, axis = -1) # or np.reshape(sx, (???))\n",
        "sy = np.expand_dims(sy, axis = -1) # or np.reshape(sy, (???))\n",
        "\n",
        "G=-((Ax-ux)**2/(2*sx**2)+(Ay-uy)**2/(2*sy**2))\n",
        "\n",
        "images = np.exp(G)\n",
        "\n",
        "print(images.shape) # The shape of I should be (3, 256, 256)\n",
        "\n",
        "for img in images: # showing images\n",
        "  plt.imshow(img)\n",
        "  plt.show()"
      ],
      "metadata": {
        "id": "eX2CBlyD8MMD"
      },
      "execution_count": null,
      "outputs": []
    }
  ]
}