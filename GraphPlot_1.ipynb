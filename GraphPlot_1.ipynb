{
  "nbformat": 4,
  "nbformat_minor": 0,
  "metadata": {
    "colab": {
      "provenance": [],
      "include_colab_link": true
    },
    "kernelspec": {
      "name": "python3",
      "display_name": "Python 3"
    },
    "language_info": {
      "name": "python"
    }
  },
  "cells": [
    {
      "cell_type": "markdown",
      "metadata": {
        "id": "view-in-github",
        "colab_type": "text"
      },
      "source": [
        "<a href=\"https://colab.research.google.com/github/ryosanhin/PythonTest/blob/master/GraphPlot_1.ipynb\" target=\"_parent\"><img src=\"https://colab.research.google.com/assets/colab-badge.svg\" alt=\"Open In Colab\"/></a>"
      ]
    },
    {
      "cell_type": "code",
      "execution_count": null,
      "metadata": {
        "id": "0W8GJtvcpWOb"
      },
      "outputs": [],
      "source": [
        "import numpy as np\n",
        "import matplotlib.pyplot as plt\n",
        "\n",
        "def quadratic(X,A):\n",
        "  X=np.array(X)\n",
        "  A=np.array(A)\n",
        "\n",
        "  X=X.reshape(np.shape(X)[0],1)\n",
        "  X=np.concatenate((X,X,X),axis=1)\n",
        "  X[:,0]=1\n",
        "  X[:,2]=X[:,2]**2\n",
        "\n",
        "  A=np.transpose(A)\n",
        "  return np.matmul(X,A)\n",
        "\n",
        "print(quadratic([4],[[1, 2, 3]]))\n",
        "print(quadratic([1,2,3,4],[[1, 2, 3], [-1, -2, -3]]))"
      ]
    },
    {
      "cell_type": "code",
      "source": [
        "minX=-0.5\n",
        "maxX=0.5\n",
        "thickness=5\n",
        "X=np.linspace(minX,maxX,100,False)\n",
        "A=[[1, 2, 3], [-1, -2, -3], [4, 5, 6]]\n",
        "A=quadratic(X,A)\n",
        "\n",
        "plt.gca().set_prop_cycle('color', ['red', 'blue', 'green'])\n",
        "plt.plot(X,A[:,0],linewidth=thickness)\n",
        "plt.plot(X,A[:,1],linewidth=thickness)\n",
        "plt.plot(X,A[:,2],linewidth=thickness)\n",
        "plt.show()"
      ],
      "metadata": {
        "id": "oiVCs8oucNA5"
      },
      "execution_count": null,
      "outputs": []
    }
  ]
}