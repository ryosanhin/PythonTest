{
  "nbformat": 4,
  "nbformat_minor": 0,
  "metadata": {
    "colab": {
      "provenance": [],
      "include_colab_link": true
    },
    "kernelspec": {
      "name": "python3",
      "display_name": "Python 3"
    },
    "language_info": {
      "name": "python"
    }
  },
  "cells": [
    {
      "cell_type": "markdown",
      "metadata": {
        "id": "view-in-github",
        "colab_type": "text"
      },
      "source": [
        "<a href=\"https://colab.research.google.com/github/ryosanhin/PythonTest/blob/master/GraphPlot_2.ipynb\" target=\"_parent\"><img src=\"https://colab.research.google.com/assets/colab-badge.svg\" alt=\"Open In Colab\"/></a>"
      ]
    },
    {
      "cell_type": "code",
      "source": [
        "import numpy as np\n",
        "import matplotlib.pylab as plt\n",
        "\n",
        "def GetMatrix(A):\n",
        "  A=np.array(A)\n",
        "  A=np.concatenate((A,A,A,A,A),axis=1)\n",
        "  A[:,4]**=4\n",
        "  A[:,3]**=3\n",
        "  A[:,2]**=2\n",
        "  A[:,0]=1\n",
        "  return np.matrix(A)\n",
        "\n",
        "month=[[1],[2],[3],[4],[5],[6],[7]]\n",
        "A=GetMatrix(month)\n",
        "\n",
        "y=np.array([16.0, 16.2, 18.3, 21.7, 25.0, 27.8, 29.4])\n",
        "y=np.expand_dims(y,axis=-1)\n",
        "y=np.matrix(y)\n",
        "\n",
        "R = np.linalg.lstsq(A, y, rcond = None)\n",
        "w = R[0]\n",
        "Aw = A * w\n",
        "\n",
        "preMonth=[[1],[2],[3],[4],[5],[6],[7],[8],[9],[10],[11],[12]]\n",
        "A=GetMatrix(preMonth)\n",
        "preAw=A*w\n",
        "\n",
        "plt.plot(preMonth,preAw,color=(0,0,1.0))\n",
        "plt.scatter(preMonth,np.array(preAw),color=(0,0,1.0))\n",
        "plt.plot(month,Aw,color=(1.0,0,0))\n",
        "plt.scatter(month,np.array(Aw),color=(1.0,0,0))\n",
        "\n",
        "plt.xlabel('X')\n",
        "plt.ylabel('f(X)')\n",
        "\n",
        "plt.show()"
      ],
      "metadata": {
        "id": "tb0S6RiwU7ID"
      },
      "execution_count": null,
      "outputs": []
    }
  ]
}