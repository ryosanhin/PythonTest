{
  "nbformat": 4,
  "nbformat_minor": 0,
  "metadata": {
    "colab": {
      "provenance": [],
      "gpuType": "T4",
      "include_colab_link": true
    },
    "kernelspec": {
      "name": "python3",
      "display_name": "Python 3"
    },
    "language_info": {
      "name": "python"
    },
    "accelerator": "GPU"
  },
  "cells": [
    {
      "cell_type": "markdown",
      "metadata": {
        "id": "view-in-github",
        "colab_type": "text"
      },
      "source": [
        "<a href=\"https://colab.research.google.com/github/ryosanhin/PythonTest/blob/master/TensorFlow.ipynb\" target=\"_parent\"><img src=\"https://colab.research.google.com/assets/colab-badge.svg\" alt=\"Open In Colab\"/></a>"
      ]
    },
    {
      "cell_type": "code",
      "source": [
        "import tensorflow as tf\n",
        "import numpy as np\n",
        "from tensorflow.keras.initializers import RandomNormal\n",
        "\n",
        "def initw():\n",
        "  return RandomNormal(mean=0., stddev=0.5, seed = np.random.randint(0, 100))\n",
        "def initw0():\n",
        "  return RandomNormal(mean=0., stddev=0.1, seed = np.random.randint(0, 100))\n",
        "\n",
        "xt=tf.convert_to_tensor(\n",
        "    [\n",
        "      [1,2,3,4]\n",
        "    ]\n",
        ")\n",
        "\n",
        "input=tf.keras.Input(shape=(4,))\n",
        "layer1=tf.keras.layers.Dense(units=2,kernel_initializer=initw(),bias_initializer=initw0())\n",
        "layer2=tf.keras.layers.Dense(units=4,kernel_initializer=initw(),bias_initializer=initw0())\n",
        "layer3=tf.keras.layers.Dense(units=3,activation=\"softmax\",kernel_initializer=initw(),bias_initializer=initw0())\n",
        "\n",
        "network5=tf.keras.models.Sequential()\n",
        "network5.add(input)\n",
        "network5.add(layer1)\n",
        "network5.add(layer2)\n",
        "network5.add(layer3)\n",
        "\n",
        "y=network5(xt)\n",
        "\n",
        "print(y)"
      ],
      "metadata": {
        "id": "rw0QE5jjXN0K"
      },
      "execution_count": null,
      "outputs": []
    },
    {
      "cell_type": "code",
      "source": [
        "from sklearn.datasets import load_iris\n",
        "from sklearn.preprocessing import OneHotEncoder\n",
        "from sklearn.model_selection import train_test_split\n",
        "\n",
        "iris = load_iris()\n",
        "X, Y = iris.data, iris.target\n",
        "onehot_encoder=OneHotEncoder(sparse_output=False)\n",
        "Y = onehot_encoder.fit_transform(np.expand_dims(Y, -1))\n",
        "X_train, X_test, Y_train, Y_test = train_test_split(X, Y, test_size=20)\n",
        "\n",
        "# Create an optimizer\n",
        "optimizer = tf.keras.optimizers.Adam(0.1)\n",
        "# Set the training parameters\n",
        "network5.compile(optimizer, loss='mse', metrics=['accuracy'])\n",
        "# Training\n",
        "network5.fit(X_train, Y_train, epochs=10, batch_size = 10, shuffle = True, verbose = 1)\n",
        "# Testing\n",
        "results = network5.evaluate(X_test, Y_test)\n",
        "print(\"[loss, accuracy]:\", results)"
      ],
      "metadata": {
        "id": "KQLn2jk0gcqi"
      },
      "execution_count": null,
      "outputs": []
    }
  ]
}